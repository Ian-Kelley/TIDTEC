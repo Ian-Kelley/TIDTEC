{
 "cells": [
  {
   "cell_type": "code",
   "execution_count": 1,
   "metadata": {},
   "outputs": [],
   "source": [
    "import matplotlib.pyplot as plt\n",
    "import datetime as dt\n",
    "import cartopy.crs as ccrs\n",
    "#import h5py\n",
    "import pandas as pd\n",
    "import numpy as np\n",
    "from cartopy.feature.nightshade import Nightshade\n",
    "from IPython.display import Video\n",
    "import matplotlib.animation as animation\n",
    "from cartopy.io.img_tiles import OSM\n",
    "import cartopy.io.img_tiles as cimgt\n",
    "from matplotlib.tri import Triangulation, UniformTriRefiner\n",
    "import os\n",
    "from pandas import Timestamp\n",
    "from scipy.signal import stft, spectrogram\n",
    "import scipy.fftpack\n",
    "from datetime import timedelta\n",
    "import pycwt as wavelet"
   ]
  },
  {
   "cell_type": "code",
   "execution_count": 7,
   "metadata": {},
   "outputs": [],
   "source": [
    "#functions\n",
    "def get_df(start, end, extent, files):\n",
    "    df = pd.read_pickle(files[0])\n",
    "    df = df.where(df.datetime > start)#filter by time\n",
    "    df = df.where((df.gdlat > extent[0]) & (df.gdlat < extent[1]))#filter by lat\n",
    "    df = df.where((df.glon > extent[2]) & (df.glon < extent[3])).dropna()#filter by lon\n",
    "\n",
    "\n",
    "\n",
    "                \n",
    "    return df\n",
    "    \n",
    "def getmag():\n",
    "    #get single dataframe of all mags\n",
    "    mag = pd.DataFrame()\n",
    "    for file in os.listdir(os.getcwd()):\n",
    "        if file.endswith('.sec'):\n",
    "            data = pd.DataFrame()\n",
    "            df = pd.read_csv(file,skiprows=20, sep='\\\\s+')\n",
    "            data['datetime'] = pd.to_datetime(df.DATE + ' ' + df.TIME)\n",
    "            data['H'] = df.iloc[:,[3]]\n",
    "            data['D'] = df.iloc[:,[4]]\n",
    "            data['Z'] = df.iloc[:,[5]]\n",
    "            data['F'] = df.iloc[:,[6]]\n",
    "            data['station'] = file[0:3]\n",
    "            mag = pd.concat([mag, data])\n",
    "    stations = pd.DataFrame({\"code\" : ['bou', 'frd', 'frn'], \"lat\" : [40.137, 38.205, 37.091], \"lon\" : [-105.236, -77.383, -119.718]})\n",
    "    return mag, stations\n",
    "\n",
    "def tec_slice(df, extent, start, end):\n",
    "    df = df.where((df.datetime > start) & (df.datetime < end))\n",
    "    df = df.where((df.gdlat > extent[0]) & (df.gdlat < extent[1]))\n",
    "    df = df.where((df.glon > extent[2]) &(df.glon < extent[3])).dropna()\n",
    "    return df\n",
    "\n",
    "def plot_setup(tec, mag, stations, code, tec_size, start, end):\n",
    "    lat = 48\n",
    "    lon = -106\n",
    "    latlon = [lat, lon]\n",
    "    print(lat, lon)\n",
    "    extent = [lat - tec_size, lat + tec_size, lon - tec_size, lon + tec_size]\n",
    "    slice_tec = tec_slice(tec, extent, start, end)\n",
    "\n",
    "    \n",
    "    slice_mag = mag[mag['station'] == code]\n",
    "    slice_mag = slice_mag.where((slice_mag.datetime > start) & (slice_mag.datetime < end)).dropna()\n",
    "    slice_mag['detrend_H'] = slice_mag.H - slice_mag.rolling(7200, center=True, min_periods=1).mean().H\n",
    "    slice_mag['detrend_D'] = slice_mag.D - slice_mag.rolling(7200, center=True, min_periods=1).mean().D\n",
    "    return slice_tec, slice_mag, latlon"
   ]
  },
  {
   "cell_type": "code",
   "execution_count": 32,
   "metadata": {},
   "outputs": [],
   "source": [
    "#variables\n",
    "del dt\n",
    "import datetime as dt\n",
    "start = dt.datetime(2017, 9, 8)\n",
    "end = dt.datetime(2017, 9, 8, 4)\n",
    "plot_start = dt.datetime(2017, 9, 8)\n",
    "plot_end = dt.datetime(2017, 9, 8, 2)\n",
    "files = ['los_20170908.pkl']\n",
    "extent = [20, 70, -130, -60]#geographic extent of measurments, [lat_min, lat_max, lon_min, lon_max], helps reduce size of df\n",
    "code = 'frn' #magnetometer station\n",
    "tec_size = 0.5 #1/2 of degrees in lat, lon of measurment window to consider TEC measurments \"above\" magnetometer"
   ]
  },
  {
   "cell_type": "code",
   "execution_count": 33,
   "metadata": {
    "scrolled": true
   },
   "outputs": [],
   "source": [
    "#load in all available tec and mag data within extent constant\n",
    "mag, stations = getmag()\n",
    "tec = get_df(start, end, extent, files)"
   ]
  },
  {
   "cell_type": "code",
   "execution_count": 34,
   "metadata": {
    "scrolled": true
   },
   "outputs": [
    {
     "name": "stdout",
     "output_type": "stream",
     "text": [
      "48 -106\n"
     ]
    }
   ],
   "source": [
    "#setup individual plots, run only this when switching between stations\n",
    "plot_tec, plot_mag, latlon = plot_setup(tec, mag, stations, code, tec_size, start, end)\n"
   ]
  },
  {
   "cell_type": "code",
   "execution_count": 26,
   "metadata": {},
   "outputs": [],
   "source": [
    "\n",
    "lat = 48\n",
    "lon = -106\n",
    "extent = [lat - tec_size, lat + tec_size, lon - tec_size, lon + tec_size]\n",
    "slice_tec = tec_slice(tec, extent, start, end)"
   ]
  },
  {
   "cell_type": "code",
   "execution_count": 27,
   "metadata": {},
   "outputs": [
    {
     "name": "stdout",
     "output_type": "stream",
     "text": [
      "          gdlat    glon    tec  dtec    elm            datetime\n",
      "18004470  47.99 -105.62  12.02  0.97  20.99 2017-09-08 02:00:30\n",
      "18031773  48.46 -105.71   7.58  0.13   9.43 2017-09-08 02:00:30\n",
      "18031864  48.00 -105.67   7.07  0.11   8.53 2017-09-08 02:00:30\n",
      "18032008  47.63 -106.17   7.07  0.08   8.55 2017-09-08 02:00:30\n",
      "18032095  48.31 -106.07   7.27  0.12   9.66 2017-09-08 02:00:30\n"
     ]
    }
   ],
   "source": [
    "print(slice_tec.head())"
   ]
  },
  {
   "cell_type": "code",
   "execution_count": 39,
   "metadata": {},
   "outputs": [
    {
     "data": {
      "text/plain": [
       "Text(0.5, 1.0, 'TEC Measurments within +- 0.5 degrees of 48, -106')"
      ]
     },
     "execution_count": 39,
     "metadata": {},
     "output_type": "execute_result"
    },
    {
     "data": {
      "image/png": "[encoded data removed]",
      "text/plain": [
       "<Figure size 1152x360 with 2 Axes>"
      ]
     },
     "metadata": {
      "needs_background": "light"
     },
     "output_type": "display_data"
    }
   ],
   "source": [
    "#setup plotting\n",
    "fig, ax = plt.subplots(2, 1, figsize=(16,5))\n",
    "\n",
    "import matplotlib.dates as mdates\n",
    "#tec plotting on left y axis\n",
    "ax[0].scatter(plot_tec.datetime, plot_tec.tec, s=.3)\n",
    "grouped = plot_tec.set_index('datetime').groupby(pd.Grouper(freq='s')).mean().dropna()\n",
    "detrend = grouped.tec - grouped.rolling(360, center=True, min_periods=1).mean().tec\n",
    "ax[0].plot(grouped.index, grouped.tec, label='mean TEC\\n', c='k')\n",
    "ax[1].plot(detrend.rolling(10, center=True).mean(), label='3 hr detrended TEC\\n', c='b')\n",
    "ax[0].set_xlim([start, end])\n",
    "ax[1].set_xlim([start, end])\n",
    "ax[0].set_ylabel('TECu')\n",
    "ax[1].set_ylabel('TECu')\n",
    "ax[0].legend(loc='upper right')\n",
    "ax[1].legend(loc='upper right')\n",
    "#plt.set_ylim([-5, 5])\n",
    "\n",
    "ax[0].xaxis.set_major_formatter(mdates.DateFormatter('%H:%M'))\n",
    "ax[1].xaxis.set_major_formatter(mdates.DateFormatter('%H:%M'))\n",
    "ax[0].set_title('TEC Measurments within +- ' + str(tec_size) + ' degrees of '  + str(latlon[0]) + ', ' + str(latlon[1]))\n"
   ]
  },
  {
   "cell_type": "code",
   "execution_count": null,
   "metadata": {
    "scrolled": true
   },
   "outputs": [],
   "source": [
    "\n",
    "fig, ax = plt.subplots(2, 1, figsize=(16,5))\n",
    "ax[0].set_title(\"BOU Magnetometer Data\")\n",
    "ax[0].plot(plot_mag.datetime, plot_mag.H - plot_mag.H.mean(), Label = 'H')\n",
    "ax[0].plot(plot_mag.datetime, plot_mag.Z - plot_mag.Z.mean(), Label = 'Z')\n",
    "ax[0].legend(loc='upper right')\n",
    "ax[1].plot(plot_mag.datetime, plot_mag.detrend_H, c='r', Label = 'Detrended H')\n",
    "ax[1].legend(loc='upper right')\n",
    "ax[1].set_ylim([-75, 75])\n",
    "ax[0].set_ylim([-75, 75])\n",
    "ax[0].set_xlim([start, end])\n",
    "ax[1].set_xlim([start, end])\n",
    "ax[0].set_ylabel('nT')\n",
    "ax[1].set_ylabel('nT')"
   ]
  },
  {
   "cell_type": "code",
   "execution_count": null,
   "metadata": {
    "scrolled": true
   },
   "outputs": [],
   "source": [
    "#setup plotting\n",
    "fig, ax = plt.subplots(figsize=(16,3))\n",
    "axes = [ax, ax.twinx()]\n",
    "\n",
    "\n",
    "#tec plotting on left y axis\n",
    "grouped = plot_tec.set_index('datetime').groupby(pd.Grouper(freq='s')).mean().dropna()\n",
    "detrend = grouped.tec - grouped.rolling(240, center=True, min_periods=1).mean().tec\n",
    "\n",
    "axes[0].plot(detrend.rolling(10, center=True).mean(), label='2 hr detrended TEC\\n', c='b')\n",
    "axes[0].set_ylabel('TECu')\n",
    "axes[0].legend(loc='upper left')\n",
    "axes[0].set_ylim([-5, 5])\n",
    "\n",
    "#mag plotting on right y axis\n",
    "axes[1].plot(plot_mag.datetime, plot_mag.detrend_H, label='2 hr detrended ' + str(code) + '_H', c='r')\n",
    "\n",
    "axes[1].legend(loc='upper right')\n",
    "axes[1].set_ylabel('nT')\n",
    "axes[1].set_ylim([-75, 75])\n",
    "plt.xlim([start, end])\n",
    "\n",
    "plt.title('TEC Measurments within +- ' + str(tec_size) + ' degrees of ' + str(code) + ' magnetometer\\nlocated at ' + str(latlon[0]) + ', ' + str(latlon[1]))\n",
    "\n",
    "\n",
    "\n"
   ]
  },
  {
   "cell_type": "code",
   "execution_count": null,
   "metadata": {
    "scrolled": false
   },
   "outputs": [],
   "source": [
    "grouped = plot_tec.set_index('datetime').groupby(pd.Grouper(freq='s')).mean().dropna()\n",
    "detrend = grouped.tec - grouped.rolling(240, center=True, min_periods=1).mean().tec\n",
    "\n",
    "grouped1 = plot_mag.set_index('datetime').groupby(pd.Grouper(freq='s')).mean().dropna()\n",
    "detrend1 = grouped1.H - grouped1.rolling(7200, center=True, min_periods=1).mean().H\n",
    "\n",
    "lags = []\n",
    "p_vals = []\n",
    "for i in range(-10000,10000):\n",
    "    p_vals.append(detrend.corr(detrend1.shift(i)))\n",
    "    lags.append(i)\n",
    "\n",
    "print(min(p_vals), max(p_vals))\n",
    "for j in range(-1000,1000):\n",
    "    if p_vals[j] == min(p_vals):\n",
    "        print(j)\n",
    "print(detrend.corr(detrend1))\n"
   ]
  },
  {
   "cell_type": "code",
   "execution_count": null,
   "metadata": {
    "scrolled": true
   },
   "outputs": [],
   "source": [
    "\n",
    "fig, axs = plt.subplots(2,1, constrained_layout=True, figsize=(10,8))\n",
    "\n",
    "Dt = 1\n",
    "\n",
    "wave, scales, freqs, coi, fft, fftfreqs = wavelet.cwt(plot_mag.detrend_H.values, Dt)\n",
    "\n",
    "power = (np.abs(wave)) ** 2\n",
    "period = 1 / freqs\n",
    "\n",
    "power /= scales[:, None]\n",
    "\n",
    "mesh = axs[0].pcolormesh(plot_mag.datetime, period / 60, power)\n",
    "\n",
    "axs[0].set_ylabel('period, minutes')\n",
    "axs[0].set_title(str(code) + ' magnetometer H component wavelet coherence')\n",
    "\n",
    "\n",
    "\n",
    "dt = 30\n",
    "\n",
    "wave, scales, freqs, coi, fft, fftfreqs = wavelet.cwt(detrend.rolling(10, center=True).mean().dropna().values, dt)\n",
    "power = (np.abs(wave)) ** 2\n",
    "period = 1 / freqs\n",
    "power /= scales[:, None]\n",
    "\n",
    "mesh = axs[1].pcolormesh(detrend.rolling(10, center=True).mean().dropna().index, period / 60, power)\n",
    "\n",
    "axs[1].set_ylabel('period, minutes')\n",
    "axs[1].set_title(str(code) + ' TEC wavelet coherence')\n",
    "\n",
    "axs[1].set_ylim([0,240])\n",
    "axs[0].set_ylim([0,240])\n",
    "axs[0].set_xlim([start, end])\n",
    "axs[1].set_xlim([start, end])"
   ]
  },
  {
   "cell_type": "code",
   "execution_count": null,
   "metadata": {
    "scrolled": false
   },
   "outputs": [],
   "source": [
    "resolution = 1\n",
    "fig, (ax0, ax1) = plt.subplots(2, 1, figsize=(12,12))\n",
    "\n",
    "f, t, Zxx = stft(plot_mag.detrend_H.dropna(), fs=1/resolution, nperseg=7200, noverlap=6840)\n",
    "Zxx = Zxx **2\n",
    "times = []\n",
    "for sample in t:\n",
    "    times.append(start + timedelta(seconds = sample / resolution))\n",
    "mesh1 = ax0.pcolormesh(times, f*1000, np.abs(Zxx), vmin=0,vmax=200)\n",
    "#ax0.set_xlim([plot_start, plot_end])\n",
    "ax0.set_ylim([0,2])\n",
    "ax0.set_ylabel('frequency, mHz')\n",
    "ax0.set_title(str(code) +' H Spectrograph')\n",
    "cbar = plt.colorbar(mesh1, fraction=0.046, pad=0.04, ax=ax0)\n",
    "cbar.set_label('nT$^2$ / Hz')\n",
    "\n",
    "\n",
    "\n",
    "resolution = 30\n",
    "f, t, Zxx = stft(detrend.rolling(10, center=True).mean(), fs=1/resolution, nperseg=500, noverlap=499)\n",
    "Zxx = Zxx **2\n",
    "times = []\n",
    "for sample in t:\n",
    "    times.append(start + timedelta(seconds = sample))\n",
    "mesh2 = ax1.pcolormesh(times, f*1000, np.abs(Zxx), cmap='plasma', vmin=0,vmax=1)\n",
    "#ax1.set_xlim([plot_start, plot_end])\n",
    "ax1.set_ylim([0,2])\n",
    "ax1.set_ylabel('frequency, mHz')\n",
    "ax1.set_title(str(code) +' TEC')\n",
    "cbar = plt.colorbar(mesh2, fraction=0.046, pad=0.04, ax = ax1)\n",
    "cbar.set_label('TEC$^2$ / Hz')"
   ]
  },
  {
   "cell_type": "code",
   "execution_count": null,
   "metadata": {},
   "outputs": [],
   "source": [
    "    time = dt.datetime(2017, 5, 28, 4, 15, 30)\n",
    "    tecmap = plt.figure(figsize=(16, 10))\n",
    "    ax = plt.axes(projection = ccrs.PlateCarree())\n",
    "    ax.coastlines(color='black', zorder=1)\n",
    "    ax.gridlines()\n",
    "    ax.set_extent([-85, -60, 30, 50], ccrs.PlateCarree())\n",
    "    ax.add_feature(Nightshade(time, alpha=0.15))\n",
    "    ax.set_title(str(time), size=30)\n",
    "    part = tec[tec['datetime'] == time]\n",
    "    #tri = Triangulation(part.glon, part.gdlat)\n",
    "    #tri = UniformTriRefiner(tri)\n",
    "    #levels = np.arange(0., 2., .005)\n",
    "    mesh = ax.scatter(part.glon, part.gdlat, c=part.tec, transform=ccrs.PlateCarree(), vmin=0, vmax=15, cmap='jet', s=20)\n",
    "    #mesh = ax.scatter(tri, part.log_tec, transform=ccrs.PlateCarree(), levels=levels, cmap='jet')#, vmin=0, vmax=25, alpha=0.5, s=100, cmap='jet')\n",
    "    \n",
    "    cbar = plt.colorbar(mesh, fraction=0.046, pad=0.04)"
   ]
  },
  {
   "cell_type": "code",
   "execution_count": null,
   "metadata": {},
   "outputs": [],
   "source": [
    "\n",
    "\n",
    "\n",
    "\n",
    "def plot_still(time, df, i, frame_code):\n",
    "    #central = 180 - (time.hour * 15 + time.minute * .25 + time.second * .0041667)\n",
    "    tecmap = plt.figure(figsize=(16, 10))\n",
    "    ax = plt.axes(projection = ccrs.PlateCarree())\n",
    "    ax.coastlines(color='black', zorder=1)\n",
    "    ax.gridlines()\n",
    "    ax.set_extent([-140, -60, 20, 70], ccrs.PlateCarree())\n",
    "    ax.add_feature(Nightshade(time, alpha=0.15))\n",
    "    ax.set_title(str(time), size=30)\n",
    "    part = df[df['datetime'] == time]\n",
    "    if(len(part.tec)) < 25000:#reurn if not enough points\n",
    "        return frame_code\n",
    "    tri = Triangulation(part.glon, part.gdlat)\n",
    "    tri = UniformTriRefiner(tri)\n",
    "    levels = np.arange(0., 2., .005)\n",
    "    mesh = ax.scatter(part.glon, part.gdlat, c=part.tec, transform=ccrs.PlateCarree(), vmin=0, vmax=30, cmap='jet', s=5, alpha=1)\n",
    "    #mesh = ax.scatter(tri, part.log_tec, transform=ccrs.PlateCarree(), levels=levels, cmap='jet')#, vmin=0, vmax=25, alpha=0.5, s=100, cmap='jet')\n",
    "    \n",
    "    cbar = plt.colorbar(mesh, fraction=0.046, pad=0.04)\n",
    "    cbar.set_label('log 10 TECu')\n",
    "    plt.savefig(f'{frame_code:03d}' + '.png')\n",
    "    plt.close()\n",
    "    return frame_code + 1\n",
    "\n",
    "def plot_series():\n",
    "    start = dt.datetime(2017, 5, 28, 4, 33)\n",
    "    cadence = dt.timedelta(seconds = 30)\n",
    "    frame_num = 240\n",
    "    frame_attempt = 0\n",
    "    frame_code = 140\n",
    "    while frame_attempt < frame_num:\n",
    "        time = start + frame_attempt * cadence\n",
    "        frame_attempt = frame_attempt + 1\n",
    "        frame_code = plot_still(time, df, frame_attempt, frame_code)\n",
    "\n",
    "  \n"
   ]
  },
  {
   "cell_type": "code",
   "execution_count": null,
   "metadata": {},
   "outputs": [],
   "source": [
    "\n",
    "for startlon in np.arange(-73, -70, 1):\n",
    "    fig = plt.figure(figsize=(8,4))\n",
    "    part = df[df['glon'] < startlon + 1]\n",
    "    part = part[part['glon'] > startlon]\n",
    "    part = part[part['gdlat'] > 30]\n",
    "    part = part[part['gdlat'] < 45]\n",
    "\n",
    "\n",
    "    mesh = plt.scatter(part.datetime, part.gdlat, c=part.tec, vmax=10, vmin=0, s=2, cmap='plasma')\n",
    "    cbar = plt.colorbar(mesh, fraction=0.046, pad=0.04)\n",
    "    cbar.set_label('TECu')\n",
    "    plt.ylabel('geographic latitude')\n",
    "    plt.title('Longitude Slice from ' + str(startlon) + ' to ' + str(startlon + 1) + ' degrees')\n",
    "    plt.savefig('/home/ikelley/TEC/lon_slices/startlon' + str(abs(startlon)) + '.png')\n"
   ]
  },
  {
   "cell_type": "code",
   "execution_count": null,
   "metadata": {},
   "outputs": [],
   "source": [
    "\n",
    "def timeseries(df, lat, lon, start, end):\n",
    "    fig = plt.figure(figsize=(8,4))\n",
    "    part = df[df['glon'] < lon + 1]\n",
    "    part = part[part['glon'] > lon]\n",
    "    part = part[part['gdlat'] > lat]\n",
    "    part = part[part['gdlat'] < lat + 1]\n",
    "    part = part[part['datetime'] < dt.datetime(2017, 5, 28, 5)]\n",
    "    plt.scatter(part.datetime, part.tec, s=1, zorder=0)\n",
    "    sliced = part.set_index('datetime').groupby(pd.Grouper(freq='s')).mean().dropna()\n",
    "    timeint = np.arange(sliced.index.size)\n",
    "    fit = np.poly1d(np.polyfit(timeint, sliced.tec, 3))\n",
    "    plt.plot(sliced.index, fit(timeint), c='r', label='Polyfit TEC')\n",
    "    plt.plot(sliced['tec'].rolling(10).mean(), c='b', label='Timeseries Avg TEC')\n",
    "    plt.title('timeseries plot at latitude: ' + str(lat) + ', longitude: ' + str(lon))\n",
    "    plt.ylabel('TECu')\n",
    "    plt.plot(sliced['tec'].rolling(10).mean() - fit(timeint), c='g', label='Differential TEC')\n",
    "    plt.legend(loc='upper right')\n",
    "timeseries(plot_tec, 43, -71, start, end)\n",
    "  "
   ]
  },
  {
   "cell_type": "code",
   "execution_count": null,
   "metadata": {
    "scrolled": false
   },
   "outputs": [],
   "source": [
    "start = dt.datetime(2016, 1, 26)\n",
    "cadence = dt.timedelta(minutes=1)\n",
    "frame_num = 3\n",
    "tecmap = plt.figure(figsize=(8, 8))\n",
    "ax = plt.axes(projection = ccrs.SouthPolarStereo(central_longitude=0))\n",
    "ax.set_global()\n",
    "ax.coastlines()\n",
    "ax.set_extent([-179, 90, -60, -60], ccrs.PlateCarree())\n",
    "#cbar = plt.colorbar(tecmap)\n",
    "#cbar.set_label('TECu')\n",
    "scatter = ax.scatter([], [], c=[], vmin=0, vmax=50, cmap='jet', s=5, transform=ccrs.PlateCarree())\n",
    "title = ax.text(-20, -58, \"\", transform=ccrs.PlateCarree(), size=20)\n",
    "\n",
    "def init():\n",
    "    scatter.set_offsets([])\n",
    "    scatter.set_array([])\n",
    "    title.set_text([])\n",
    "\n",
    "\n",
    "def animate(i):  \n",
    "    print('progress at: ' + str(100 * (i / frame_num)) + '%')\n",
    "    time = start + i * cadence\n",
    "    central_set = 180 - (time.hour * 15 + time.minute * .25 + time.second * .0041667)\n",
    "    ax.add_feature(Nightshade(time, alpha=0.05))\n",
    "    title.set_text(str(time))\n",
    "    part = df.where((df.datetime == time) | (df.datetime == (time + dt.timedelta(seconds = 30)))).dropna()\n",
    "    scatter.set_offsets(np.vstack((part.glon, part.gdlat)).T)\n",
    "    scatter.set_array(part.tec)\n",
    "\n",
    "\n",
    "\n",
    "\n",
    "anim = animation.FuncAnimation(tecmap, animate, frames=frame_num, init_func=init, interval=500, blit=False)\n",
    "anim.save('tec_anim.gif')\n",
    "Video('tec_anim.gif')"
   ]
  }
 ],
 "metadata": {
  "kernelspec": {
   "display_name": "Python 3",
   "language": "python",
   "name": "python3"
  },
  "language_info": {
   "codemirror_mode": {
    "name": "ipython",
    "version": 3
   },
   "file_extension": ".py",
   "mimetype": "text/x-python",
   "name": "python",
   "nbconvert_exporter": "python",
   "pygments_lexer": "ipython3",
   "version": "3.8.10"
  }
 },
 "nbformat": 4,
 "nbformat_minor": 2
}
