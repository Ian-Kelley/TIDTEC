{
 "cells": [
  {
   "cell_type": "code",
   "execution_count": 1,
   "id": "0aa157f4",
   "metadata": {},
   "outputs": [],
   "source": [
    "import h5py\n",
    "import numpy as np\n",
    "import pandas as pd\n",
    "import os\n",
    "import gc"
   ]
  },
  {
   "cell_type": "code",
   "execution_count": 2,
   "id": "711b9c92",
   "metadata": {},
   "outputs": [],
   "source": [
    "def convert(filename, start, end):\n",
    "    f = h5py.File(filename, 'r')\n",
    "    data = f['Data']['Table Layout'][start:end]\n",
    "    d = {\"ut_time\" : data['ut1_unix'], \"gps_site\" : data['gps_site'], \"sat_id\" : data['sat_id'], \"gdlat\" : data['gdlat'], \"glon\" : data['glon'], \"tec\" : data['tec'], \"dtec\" : data['dtec'], \"elm\" : data['elm']}\n",
    "    print(\"dict created from dataset\")\n",
    "    del data\n",
    "    gc.collect()\n",
    "    df = pd.DataFrame(d)\n",
    "    print(\"dataframe created from dict\")\n",
    "    del d\n",
    "    gc.collect()\n",
    "    df['datetime'] = pd.to_datetime(df.ut_time, unit='s')\n",
    "    del df['ut_time']\n",
    "    df['site'] = df.gps_site.str.decode('utf-8')\n",
    "    del df['gps_site']\n",
    "    #df['vtec'] = df.tec * np.sqrt(1 - ((6371 * np.cos(np.deg2rad(df.elm)) / 6721)**2))\n",
    "    df['log_tec'] = np.log10(df['tec'])\n",
    "    #df['log_vtec'] = np.log10(df['vtec'])\n",
    "    return df\n",
    "\n",
    "def quick_convert(filename, start, end):\n",
    "    f = h5py.File(filename, 'r')\n",
    "    data = f['Data']['Table Layout'][start:end]\n",
    "    d = {\"ut_time\" : data['ut1_unix'], \"gdlat\" : data['gdlat'], \"glon\" : data['glon'], \"tec\" : data['tec'],  \"dtec\" : data['dlos_tec'], \"elm\" : data['elm'], \"gps_site\" : data['gps_site'], \"sat_id\" : data['sat_id']}\n",
    "    print(\"dict created from dataset\")\n",
    "    del data\n",
    "    gc.collect()\n",
    "    print(\"dataset deleted\")\n",
    "    df = pd.DataFrame(d)\n",
    "    print(\"dataframe created from dict\")\n",
    "    del d\n",
    "    gc.collect()\n",
    "    print(\"dict deleted\")\n",
    "    df['datetime'] = pd.to_datetime(df.ut_time, unit='s')\n",
    "    del df['ut_time']\n",
    "    return df.round(2)"
   ]
  },
  {
   "cell_type": "code",
   "execution_count": 5,
   "id": "a54d36f1",
   "metadata": {},
   "outputs": [
    {
     "name": "stdout",
     "output_type": "stream",
     "text": [
      "106653907.5\n"
     ]
    }
   ],
   "source": [
    "filename = 'los_20170907.004.h5'\n",
    "f = h5py.File(filename, 'r')\n",
    "data = f['Data']['Table Layout']\n",
    "print(data.size / 2)"
   ]
  },
  {
   "cell_type": "code",
   "execution_count": 8,
   "id": "17242cb7",
   "metadata": {
    "scrolled": true
   },
   "outputs": [
    {
     "name": "stdout",
     "output_type": "stream",
     "text": [
      "dict created from dataset\n",
      "dataset deleted\n",
      "dataframe created from dict\n",
      "dict deleted\n"
     ]
    }
   ],
   "source": [
    "\n",
    "df = quick_convert(filename, 106653907, -1)"
   ]
  },
  {
   "cell_type": "code",
   "execution_count": 9,
   "id": "c01249db",
   "metadata": {
    "scrolled": false
   },
   "outputs": [
    {
     "name": "stdout",
     "output_type": "stream",
     "text": [
      "   gdlat    glon    tec  dtec    elm gps_site  sat_id   datetime\n",
      "0 -10.20  130.22  24.00  0.24  51.60  b'00na'       1 2017-09-07\n",
      "1 -14.19  131.54  18.47  0.49  57.96  b'00na'       3 2017-09-07\n",
      "2 -14.75  135.19  20.04  0.93  30.07  b'00na'       5 2017-09-07\n",
      "3 -17.95  130.46  16.11  0.29  26.46  b'00na'       6 2017-09-07\n",
      "4  -9.99  128.15  23.24  0.20  38.46  b'00na'       7 2017-09-07\n"
     ]
    }
   ],
   "source": [
    "print(df.head())"
   ]
  },
  {
   "cell_type": "code",
   "execution_count": 1,
   "id": "6998bd01",
   "metadata": {},
   "outputs": [
    {
     "ename": "NameError",
     "evalue": "name 'df' is not defined",
     "output_type": "error",
     "traceback": [
      "\u001b[1;31m---------------------------------------------------------------------------\u001b[0m",
      "\u001b[1;31mNameError\u001b[0m                                 Traceback (most recent call last)",
      "\u001b[1;32m<ipython-input-1-4c1475aea727>\u001b[0m in \u001b[0;36m<module>\u001b[1;34m\u001b[0m\n\u001b[1;32m----> 1\u001b[1;33m \u001b[0mdf\u001b[0m\u001b[1;33m.\u001b[0m\u001b[0mto_pickle\u001b[0m\u001b[1;33m(\u001b[0m\u001b[0mfilename\u001b[0m\u001b[1;33m[\u001b[0m\u001b[1;36m0\u001b[0m\u001b[1;33m:\u001b[0m\u001b[1;36m12\u001b[0m\u001b[1;33m]\u001b[0m \u001b[1;33m+\u001b[0m \u001b[1;34m'.pkl'\u001b[0m\u001b[1;33m)\u001b[0m\u001b[1;33m\u001b[0m\u001b[1;33m\u001b[0m\u001b[0m\n\u001b[0m",
      "\u001b[1;31mNameError\u001b[0m: name 'df' is not defined"
     ]
    }
   ],
   "source": [
    "df.to_pickle(filename[0:12] + '.pkl')"
   ]
  },
  {
   "cell_type": "code",
   "execution_count": 6,
   "id": "e6e41053",
   "metadata": {
    "scrolled": true
   },
   "outputs": [],
   "source": [
    "data = f['Data']['Table Layout'][0:10]"
   ]
  },
  {
   "cell_type": "code",
   "execution_count": 11,
   "id": "cda1d1e8",
   "metadata": {
    "scrolled": true
   },
   "outputs": [
    {
     "data": {
      "text/plain": [
       "array([1.496175, 0.216619, 0.934936, 0.204711, 0.281104, 0.192094,\n",
       "       0.633529, 0.283237, 0.956732, 0.362169])"
      ]
     },
     "execution_count": 11,
     "metadata": {},
     "output_type": "execute_result"
    }
   ],
   "source": [
    "data['dlos_tec']"
   ]
  },
  {
   "cell_type": "code",
   "execution_count": null,
   "id": "ca07cbd9",
   "metadata": {},
   "outputs": [],
   "source": []
  }
 ],
 "metadata": {
  "kernelspec": {
   "display_name": "Python 3",
   "language": "python",
   "name": "python3"
  },
  "language_info": {
   "codemirror_mode": {
    "name": "ipython",
    "version": 3
   },
   "file_extension": ".py",
   "mimetype": "text/x-python",
   "name": "python",
   "nbconvert_exporter": "python",
   "pygments_lexer": "ipython3",
   "version": "3.8.10"
  }
 },
 "nbformat": 4,
 "nbformat_minor": 5
}
