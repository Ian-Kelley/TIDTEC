{
 "cells": [
  {
   "cell_type": "code",
   "execution_count": 1,
   "id": "39e466fe",
   "metadata": {},
   "outputs": [],
   "source": [
    "import datetime as dt\n",
    "import cartopy.crs as ccrs\n",
    "import pandas as pd\n",
    "import numpy as np\n",
    "\n"
   ]
  },
  {
   "cell_type": "code",
   "execution_count": 16,
   "id": "9e3fd897",
   "metadata": {},
   "outputs": [],
   "source": [
    "df = pd.read_pickle('los_20170908.pkl')"
   ]
  },
  {
   "cell_type": "code",
   "execution_count": 18,
   "id": "d20574d4",
   "metadata": {
    "scrolled": true
   },
   "outputs": [
    {
     "name": "stdout",
     "output_type": "stream",
     "text": [
      "           gdlat    glon   tec  dtec    elm gps_site  sat_id  \\\n",
      "108842140  45.30 -110.34  1.72  0.95  34.72  b'p023'      11   \n",
      "108842141  45.81 -120.06  3.07  0.38  44.67  b'p023'      13   \n",
      "108842142  49.79 -124.31  3.16  1.22  18.60  b'p023'      15   \n",
      "108842143  41.52 -116.97  2.30  0.18  40.16  b'p023'      17   \n",
      "108842144  36.97 -119.62  2.74  0.28  16.10  b'p023'      19   \n",
      "\n",
      "                     datetime  \n",
      "108842140 2017-09-08 11:57:00  \n",
      "108842141 2017-09-08 11:57:00  \n",
      "108842142 2017-09-08 11:57:00  \n",
      "108842143 2017-09-08 11:57:00  \n",
      "108842144 2017-09-08 11:57:00  \n"
     ]
    }
   ],
   "source": [
    "print(df.tail())"
   ]
  },
  {
   "cell_type": "code",
   "execution_count": 2,
   "id": "a4157807",
   "metadata": {},
   "outputs": [
    {
     "name": "stdout",
     "output_type": "stream",
     "text": [
      "df1 load\n",
      "df2 load\n"
     ]
    }
   ],
   "source": [
    "df1 = pd.read_pickle('los_20170907.pkl')\n",
    "print('df1 load')\n",
    "df2 = pd.read_pickle('los_20170908.pkl')\n",
    "print('df2 load')\n",
    "df = pd.concat([df1, df2])\n",
    "del df1\n",
    "del df2"
   ]
  },
  {
   "cell_type": "code",
   "execution_count": 7,
   "id": "a307954e",
   "metadata": {},
   "outputs": [
    {
     "name": "stdout",
     "output_type": "stream",
     "text": [
      "                            df:  1.4 GiB\n",
      "                          _iii:  637.0 B\n",
      "                           _i4:  637.0 B\n",
      "                           _i3:  636.0 B\n",
      "                           _i7:  587.0 B\n",
      "                           _oh:  232.0 B\n",
      "                           Out:  232.0 B\n",
      "                           _i2:  209.0 B\n",
      "                           _i1:  136.0 B\n",
      "                    sizeof_fmt:  136.0 B\n"
     ]
    }
   ],
   "source": [
    "import sys\n",
    "def sizeof_fmt(num, suffix='B'):\n",
    "    ''' by Fred Cirera,  https://stackoverflow.com/a/1094933/1870254, modified'''\n",
    "    for unit in ['','Ki','Mi','Gi','Ti','Pi','Ei','Zi']:\n",
    "        if abs(num) < 1024.0:\n",
    "            return \"%3.1f %s%s\" % (num, unit, suffix)\n",
    "        num /= 1024.0\n",
    "    return \"%.1f %s%s\" % (num, 'Yi', suffix)\n",
    "\n",
    "for name, size in sorted(((name, sys.getsizeof(value)) for name, value in locals().items()),\n",
    "                         key= lambda x: -x[1])[:10]:\n",
    "    print(\"{:>30}: {:>8}\".format(name, sizeof_fmt(size)))"
   ]
  },
  {
   "cell_type": "code",
   "execution_count": 4,
   "id": "81b7775d",
   "metadata": {},
   "outputs": [
    {
     "name": "stdout",
     "output_type": "stream",
     "text": [
      "    gdlat   glon   tec  dtec    elm gps_site  sat_id            datetime\n",
      "0   31.24 -92.00  5.56  0.05  76.68  b'lanr'      30 2017-09-07 11:56:00\n",
      "1   40.70 -81.68  7.55  0.17  44.37  b'lans'       1 2017-09-07 11:56:00\n",
      "2   40.66 -84.11  7.18  0.12  55.39  b'lans'       7 2017-09-07 11:56:00\n",
      "3   45.24 -79.88  6.28  0.72  33.20  b'lans'       8 2017-09-07 11:56:00\n",
      "4   42.47 -83.14  6.65  0.21  68.97  b'lans'      10 2017-09-07 11:56:00\n",
      "5   42.19 -82.67  6.75  0.29  62.37  b'lans'      11 2017-09-07 11:56:00\n",
      "6   44.90 -86.76  6.48  0.22  47.13  b'lans'      11 2017-09-07 11:56:00\n",
      "7   39.11 -90.37  7.18  0.08  26.00  b'lans'      17 2017-09-07 11:56:00\n",
      "8   51.89 -75.09  6.64  0.15   9.36  b'lans'      19 2017-09-07 11:56:00\n",
      "9   43.73 -83.35  6.55  0.44  64.19  b'lans'      20 2017-09-07 11:56:00\n",
      "10  40.81 -85.72  7.61  0.09  55.73  b'lans'      21 2017-09-07 11:56:00\n",
      "11  43.87 -87.11  6.50  0.08  53.77  b'lans'      28 2017-09-07 11:56:00\n",
      "12  42.43 -85.78  6.72  0.25  73.94  b'lans'      30 2017-09-07 11:56:00\n",
      "13  29.92 -89.38  6.25  0.36  44.36  b'laok'       1 2017-09-07 11:56:00\n",
      "14  29.80 -91.56  5.84  0.07  65.05  b'laok'       7 2017-09-07 11:56:00\n"
     ]
    }
   ],
   "source": [
    "print(df.head(15))"
   ]
  },
  {
   "cell_type": "code",
   "execution_count": 10,
   "id": "ab82e168",
   "metadata": {},
   "outputs": [],
   "source": [
    "def plot_still(time, df):\n",
    "\n",
    "    tecmap = plt.figure(figsize=(16, 10))\n",
    "    ax = plt.axes(projection = ccrs.PlateCarree())\n",
    "    ax.coastlines(color='black', zorder=1)\n",
    "    ax.gridlines()\n",
    "    ax.set_extent([-130, -60, 30, 50], ccrs.PlateCarree())\n",
    "    ax.add_feature(Nightshade(time, alpha=0.15))\n",
    "    ax.set_title(str(time), size=30)\n",
    "    part = df[df['datetime'] == time]\n",
    "\n",
    "\n",
    "  \n",
    "    mesh = ax.scatter(part.glon, part.gdlat, c=part['30min_detrend'] , transform=ccrs.PlateCarree(), vmin=-.2, vmax=.2, cmap='jet', s=3, alpha=.8)\n",
    "\n",
    "    cbar = plt.colorbar(mesh, fraction=0.046, pad=0.04)\n",
    "    cbar.set_label('dTEC')\n",
    "\n"
   ]
  },
  {
   "cell_type": "code",
   "execution_count": 4,
   "id": "47254865",
   "metadata": {
    "scrolled": true
   },
   "outputs": [
    {
     "ename": "NameError",
     "evalue": "name 'df2' is not defined",
     "output_type": "error",
     "traceback": [
      "\u001b[1;31m---------------------------------------------------------------------------\u001b[0m",
      "\u001b[1;31mNameError\u001b[0m                                 Traceback (most recent call last)",
      "\u001b[1;32m<ipython-input-4-41b8d4711653>\u001b[0m in \u001b[0;36m<module>\u001b[1;34m\u001b[0m\n\u001b[0;32m     10\u001b[0m \u001b[0mdf\u001b[0m \u001b[1;33m=\u001b[0m \u001b[0mdf\u001b[0m\u001b[1;33m.\u001b[0m\u001b[0msort_values\u001b[0m\u001b[1;33m(\u001b[0m\u001b[0mby\u001b[0m\u001b[1;33m=\u001b[0m\u001b[1;33m[\u001b[0m\u001b[1;34m'code'\u001b[0m\u001b[1;33m,\u001b[0m \u001b[1;34m'datetime'\u001b[0m\u001b[1;33m]\u001b[0m\u001b[1;33m)\u001b[0m\u001b[1;33m\u001b[0m\u001b[1;33m\u001b[0m\u001b[0m\n\u001b[0;32m     11\u001b[0m \u001b[0mdf\u001b[0m\u001b[1;33m[\u001b[0m\u001b[1;34m'30min_detrend'\u001b[0m\u001b[1;33m]\u001b[0m \u001b[1;33m=\u001b[0m \u001b[0mdf\u001b[0m\u001b[1;33m[\u001b[0m\u001b[1;34m'tec'\u001b[0m\u001b[1;33m]\u001b[0m \u001b[1;33m-\u001b[0m \u001b[0mdf\u001b[0m\u001b[1;33m.\u001b[0m\u001b[0mrolling\u001b[0m\u001b[1;33m(\u001b[0m\u001b[1;36m60\u001b[0m\u001b[1;33m,\u001b[0m \u001b[0mcenter\u001b[0m\u001b[1;33m=\u001b[0m\u001b[1;32mTrue\u001b[0m\u001b[1;33m,\u001b[0m \u001b[0mmin_periods\u001b[0m\u001b[1;33m=\u001b[0m\u001b[1;36m1\u001b[0m\u001b[1;33m)\u001b[0m\u001b[1;33m.\u001b[0m\u001b[0mmean\u001b[0m\u001b[1;33m(\u001b[0m\u001b[1;33m)\u001b[0m\u001b[1;33m.\u001b[0m\u001b[0mtec\u001b[0m\u001b[1;33m\u001b[0m\u001b[1;33m\u001b[0m\u001b[0m\n\u001b[1;32m---> 12\u001b[1;33m \u001b[0mdf\u001b[0m \u001b[1;33m=\u001b[0m \u001b[0mdf\u001b[0m\u001b[1;33m.\u001b[0m\u001b[0mwhere\u001b[0m\u001b[1;33m(\u001b[0m\u001b[0mdf2\u001b[0m\u001b[1;33m[\u001b[0m\u001b[1;34m'elm'\u001b[0m\u001b[1;33m]\u001b[0m \u001b[1;33m>\u001b[0m \u001b[1;36m30\u001b[0m\u001b[1;33m)\u001b[0m\u001b[1;33m.\u001b[0m\u001b[0mdropna\u001b[0m\u001b[1;33m(\u001b[0m\u001b[1;33m)\u001b[0m\u001b[1;33m\u001b[0m\u001b[1;33m\u001b[0m\u001b[0m\n\u001b[0m",
      "\u001b[1;31mNameError\u001b[0m: name 'df2' is not defined"
     ]
    }
   ],
   "source": [
    "start = dt.datetime(2017, 9, 7, 22, 59)\n",
    "end = dt.datetime(2017, 9, 8, 3, 1)\n",
    "extent = [20, 70, -140, -60]\n",
    "df = df.where((df.datetime > start) & (df.datetime < end) & (df.gdlat > extent[0]) & (df.gdlat < extent[1]) & (df.glon > extent[2]) & (df.glon < extent[3])).dropna()\n",
    "\n",
    "\n",
    "df['code'] = (df['gps_site'].str.decode('UTF-8') + '_' + df['sat_id'].astype(int).astype(str))\n",
    "df = df.drop(columns = ['gps_site', 'sat_id'])\n",
    "\n",
    "df = df.sort_values(by=['code', 'datetime'])\n",
    "df['30min_detrend'] = df['tec'] - df.rolling(60, center=True, min_periods=1).mean().tec\n",
    "df = df.where(df['elm'] > 30).dropna()"
   ]
  },
  {
   "cell_type": "code",
   "execution_count": 6,
   "id": "54d2138b",
   "metadata": {},
   "outputs": [
    {
     "name": "stdout",
     "output_type": "stream",
     "text": [
      "           gdlat   glon    tec  dtec    elm            datetime     code  \\\n",
      "100767001  32.21 -96.38  20.32  1.44  30.07 2017-09-07 23:19:00  1lsu_10   \n",
      "100856653  32.23 -96.36  20.35  1.44  30.19 2017-09-07 23:19:30  1lsu_10   \n",
      "100946327  32.24 -96.28  20.30  1.44  30.43 2017-09-07 23:20:00  1lsu_10   \n",
      "101052759  32.25 -96.27  20.34  1.44  30.56 2017-09-07 23:21:00  1lsu_10   \n",
      "101142213  32.26 -96.23  20.41  1.44  30.66 2017-09-07 23:21:30  1lsu_10   \n",
      "101231808  32.28 -96.18  20.53  1.44  30.90 2017-09-07 23:22:00  1lsu_10   \n",
      "101337821  32.28 -96.14  20.51  1.44  31.02 2017-09-07 23:23:00  1lsu_10   \n",
      "101426878  32.30 -96.12  20.55  1.44  31.14 2017-09-07 23:23:30  1lsu_10   \n",
      "101516081  32.31 -96.05  20.53  1.44  31.39 2017-09-07 23:24:00  1lsu_10   \n",
      "101604787  32.32 -96.03  20.65  1.44  31.51 2017-09-07 23:24:30  1lsu_10   \n",
      "101710351  32.32 -95.99  20.65  1.44  31.64 2017-09-07 23:25:30  1lsu_10   \n",
      "101798992  32.34 -95.98  20.66  1.44  31.76 2017-09-07 23:26:00  1lsu_10   \n",
      "101887829  32.34 -95.90  20.58  1.44  32.00 2017-09-07 23:26:30  1lsu_10   \n",
      "101993071  32.36 -95.88  20.57  1.44  32.13 2017-09-07 23:27:30  1lsu_10   \n",
      "102081339  32.36 -95.85  20.56  1.44  32.25 2017-09-07 23:28:00  1lsu_10   \n",
      "102169657  32.37 -95.83  20.54  1.44  32.37 2017-09-07 23:28:30  1lsu_10   \n",
      "102258035  32.39 -95.78  20.45  1.44  32.62 2017-09-07 23:29:00  1lsu_10   \n",
      "102362644  32.39 -95.74  20.42  1.44  32.74 2017-09-07 23:30:00  1lsu_10   \n",
      "102450370  32.40 -95.72  20.40  1.44  32.87 2017-09-07 23:30:30  1lsu_10   \n",
      "102538542  32.41 -95.65  20.38  1.44  33.11 2017-09-07 23:31:00  1lsu_10   \n",
      "102642913  32.42 -95.63  20.33  1.44  33.24 2017-09-07 23:32:00  1lsu_10   \n",
      "102730739  32.43 -95.60  20.33  1.44  33.36 2017-09-07 23:32:30  1lsu_10   \n",
      "102818806  32.43 -95.54  20.32  1.44  33.61 2017-09-07 23:33:00  1lsu_10   \n",
      "102906511  32.45 -95.52  20.34  1.44  33.73 2017-09-07 23:33:30  1lsu_10   \n",
      "103010749  32.45 -95.48  20.32  1.44  33.86 2017-09-07 23:34:30  1lsu_10   \n",
      "103098429  32.46 -95.47  20.33  1.44  33.98 2017-09-07 23:35:00  1lsu_10   \n",
      "103186309  32.47 -95.41  20.36  1.44  34.23 2017-09-07 23:35:30  1lsu_10   \n",
      "103290310  32.47 -95.38  20.38  1.44  34.35 2017-09-07 23:36:30  1lsu_10   \n",
      "103377805  32.48 -95.36  20.41  1.44  34.48 2017-09-07 23:37:00  1lsu_10   \n",
      "103465269  32.48 -95.32  20.39  1.44  34.60 2017-09-07 23:37:30  1lsu_10   \n",
      "\n",
      "           30min_detrend  \n",
      "100767001       0.016667  \n",
      "100856653       0.029000  \n",
      "100946327      -0.039500  \n",
      "101052759      -0.019500  \n",
      "101142213       0.033500  \n",
      "101231808       0.136167  \n",
      "101337821       0.098667  \n",
      "101426878       0.123667  \n",
      "101516081       0.090167  \n",
      "101604787       0.197667  \n",
      "101710351       0.186667  \n",
      "101798992       0.187500  \n",
      "101887829       0.100833  \n",
      "101993071       0.084833  \n",
      "102081339       0.072000  \n",
      "102169657       0.052000  \n",
      "102258035      -0.036500  \n",
      "102362644      -0.062500  \n",
      "102450370      -0.079167  \n",
      "102538542      -0.095167  \n",
      "102642913      -0.139333  \n",
      "102730739      -0.134500  \n",
      "102818806      -0.136667  \n",
      "102906511      -0.108833  \n",
      "103010749      -0.117833  \n",
      "103098429      -0.098167  \n",
      "103186309      -0.060667  \n",
      "103290310      -0.034667  \n",
      "103377805      -0.002500  \n",
      "103465269      -0.022667  \n"
     ]
    }
   ],
   "source": [
    "print(df.head(30))"
   ]
  },
  {
   "cell_type": "code",
   "execution_count": 8,
   "id": "16d89b35",
   "metadata": {},
   "outputs": [],
   "source": [
    "df.to_pickle('tec.pkl')"
   ]
  },
  {
   "cell_type": "code",
   "execution_count": 12,
   "id": "6eee4b7c",
   "metadata": {
    "scrolled": true
   },
   "outputs": [
    {
     "ename": "NameError",
     "evalue": "name 'Nightshade' is not defined",
     "output_type": "error",
     "traceback": [
      "\u001b[1;31m---------------------------------------------------------------------------\u001b[0m",
      "\u001b[1;31mNameError\u001b[0m                                 Traceback (most recent call last)",
      "\u001b[1;32m<ipython-input-12-577a13667d07>\u001b[0m in \u001b[0;36m<module>\u001b[1;34m\u001b[0m\n\u001b[0;32m      3\u001b[0m \u001b[1;33m\u001b[0m\u001b[0m\n\u001b[0;32m      4\u001b[0m \u001b[0mtime\u001b[0m \u001b[1;33m=\u001b[0m \u001b[0mdt\u001b[0m\u001b[1;33m.\u001b[0m\u001b[0mdatetime\u001b[0m\u001b[1;33m(\u001b[0m\u001b[1;36m2017\u001b[0m\u001b[1;33m,\u001b[0m \u001b[1;36m9\u001b[0m\u001b[1;33m,\u001b[0m \u001b[1;36m7\u001b[0m\u001b[1;33m,\u001b[0m \u001b[1;36m23\u001b[0m\u001b[1;33m,\u001b[0m \u001b[1;36m20\u001b[0m\u001b[1;33m)\u001b[0m\u001b[1;33m\u001b[0m\u001b[1;33m\u001b[0m\u001b[0m\n\u001b[1;32m----> 5\u001b[1;33m \u001b[0mplot_still\u001b[0m\u001b[1;33m(\u001b[0m\u001b[0mtime\u001b[0m\u001b[1;33m,\u001b[0m \u001b[0mdf\u001b[0m\u001b[1;33m)\u001b[0m\u001b[1;33m\u001b[0m\u001b[1;33m\u001b[0m\u001b[0m\n\u001b[0m",
      "\u001b[1;32m<ipython-input-10-7e9a32f79b46>\u001b[0m in \u001b[0;36mplot_still\u001b[1;34m(time, df)\u001b[0m\n\u001b[0;32m      6\u001b[0m     \u001b[0max\u001b[0m\u001b[1;33m.\u001b[0m\u001b[0mgridlines\u001b[0m\u001b[1;33m(\u001b[0m\u001b[1;33m)\u001b[0m\u001b[1;33m\u001b[0m\u001b[1;33m\u001b[0m\u001b[0m\n\u001b[0;32m      7\u001b[0m     \u001b[0max\u001b[0m\u001b[1;33m.\u001b[0m\u001b[0mset_extent\u001b[0m\u001b[1;33m(\u001b[0m\u001b[1;33m[\u001b[0m\u001b[1;33m-\u001b[0m\u001b[1;36m130\u001b[0m\u001b[1;33m,\u001b[0m \u001b[1;33m-\u001b[0m\u001b[1;36m60\u001b[0m\u001b[1;33m,\u001b[0m \u001b[1;36m30\u001b[0m\u001b[1;33m,\u001b[0m \u001b[1;36m50\u001b[0m\u001b[1;33m]\u001b[0m\u001b[1;33m,\u001b[0m \u001b[0mccrs\u001b[0m\u001b[1;33m.\u001b[0m\u001b[0mPlateCarree\u001b[0m\u001b[1;33m(\u001b[0m\u001b[1;33m)\u001b[0m\u001b[1;33m)\u001b[0m\u001b[1;33m\u001b[0m\u001b[1;33m\u001b[0m\u001b[0m\n\u001b[1;32m----> 8\u001b[1;33m     \u001b[0max\u001b[0m\u001b[1;33m.\u001b[0m\u001b[0madd_feature\u001b[0m\u001b[1;33m(\u001b[0m\u001b[0mNightshade\u001b[0m\u001b[1;33m(\u001b[0m\u001b[0mtime\u001b[0m\u001b[1;33m,\u001b[0m \u001b[0malpha\u001b[0m\u001b[1;33m=\u001b[0m\u001b[1;36m0.15\u001b[0m\u001b[1;33m)\u001b[0m\u001b[1;33m)\u001b[0m\u001b[1;33m\u001b[0m\u001b[1;33m\u001b[0m\u001b[0m\n\u001b[0m\u001b[0;32m      9\u001b[0m     \u001b[0max\u001b[0m\u001b[1;33m.\u001b[0m\u001b[0mset_title\u001b[0m\u001b[1;33m(\u001b[0m\u001b[0mstr\u001b[0m\u001b[1;33m(\u001b[0m\u001b[0mtime\u001b[0m\u001b[1;33m)\u001b[0m\u001b[1;33m,\u001b[0m \u001b[0msize\u001b[0m\u001b[1;33m=\u001b[0m\u001b[1;36m30\u001b[0m\u001b[1;33m)\u001b[0m\u001b[1;33m\u001b[0m\u001b[1;33m\u001b[0m\u001b[0m\n\u001b[0;32m     10\u001b[0m     \u001b[0mpart\u001b[0m \u001b[1;33m=\u001b[0m \u001b[0mdf\u001b[0m\u001b[1;33m[\u001b[0m\u001b[0mdf\u001b[0m\u001b[1;33m[\u001b[0m\u001b[1;34m'datetime'\u001b[0m\u001b[1;33m]\u001b[0m \u001b[1;33m==\u001b[0m \u001b[0mtime\u001b[0m\u001b[1;33m]\u001b[0m\u001b[1;33m\u001b[0m\u001b[1;33m\u001b[0m\u001b[0m\n",
      "\u001b[1;31mNameError\u001b[0m: name 'Nightshade' is not defined"
     ]
    },
    {
     "data": {
      "image/png": "[encoded data removed]",
      "text/plain": [
       "<Figure size 1152x720 with 1 Axes>"
      ]
     },
     "metadata": {
      "needs_background": "light"
     },
     "output_type": "display_data"
    }
   ],
   "source": [
    "import matplotlib.pyplot as plt\n",
    "import cartopy.crs as ccrs\n",
    "\n",
    "time = dt.datetime(2017, 9, 7, 23, 20)\n",
    "plot_still(time, df)\n"
   ]
  },
  {
   "cell_type": "markdown",
   "id": "5a2f781b",
   "metadata": {},
   "source": [
    "# "
   ]
  }
 ],
 "metadata": {
  "kernelspec": {
   "display_name": "Python 3",
   "language": "python",
   "name": "python3"
  },
  "language_info": {
   "codemirror_mode": {
    "name": "ipython",
    "version": 3
   },
   "file_extension": ".py",
   "mimetype": "text/x-python",
   "name": "python",
   "nbconvert_exporter": "python",
   "pygments_lexer": "ipython3",
   "version": "3.8.10"
  }
 },
 "nbformat": 4,
 "nbformat_minor": 5
}
